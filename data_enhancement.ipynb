{
 "cells": [
  {
   "attachments": {},
   "cell_type": "markdown",
   "metadata": {},
   "source": [
    "## Import Libraries"
   ]
  },
  {
   "cell_type": "code",
   "execution_count": 1,
   "metadata": {},
   "outputs": [],
   "source": [
    "import numpy    as np\n",
    "from numpy.testing._private.utils import decorate_methods\n",
    "import pandas   as pd\n",
    "import seaborn  as sb\n",
    "import matplotlib.pyplot as plt\n",
    "import sklearn  as skl\n",
    "import time\n",
    "\n",
    "from sklearn import pipeline            # Pipeline\n",
    "from sklearn import preprocessing       # OrdinalEncoder, LabelEncoder\n",
    "from sklearn import impute\n",
    "from sklearn import compose\n",
    "from sklearn import model_selection     # train_test_split\n",
    "from sklearn import metrics             # accuracy_score, balanced_accuracy_score, plot_confusion_matrix\n",
    "from sklearn import set_config\n",
    "\n",
    "from sklearn.tree          import DecisionTreeRegressor\n",
    "from sklearn.ensemble      import RandomForestRegressor\n",
    "from sklearn.ensemble      import ExtraTreesRegressor\n",
    "from sklearn.ensemble      import AdaBoostRegressor\n",
    "from sklearn.ensemble      import GradientBoostingRegressor"
   ]
  },
  {
   "attachments": {},
   "cell_type": "markdown",
   "metadata": {},
   "source": [
    "## Read CSV file"
   ]
  },
  {
   "cell_type": "code",
   "execution_count": 2,
   "metadata": {},
   "outputs": [
    {
     "data": {
      "text/html": [
       "<div>\n",
       "<style scoped>\n",
       "    .dataframe tbody tr th:only-of-type {\n",
       "        vertical-align: middle;\n",
       "    }\n",
       "\n",
       "    .dataframe tbody tr th {\n",
       "        vertical-align: top;\n",
       "    }\n",
       "\n",
       "    .dataframe thead th {\n",
       "        text-align: right;\n",
       "    }\n",
       "</style>\n",
       "<table border=\"1\" class=\"dataframe\">\n",
       "  <thead>\n",
       "    <tr style=\"text-align: right;\">\n",
       "      <th></th>\n",
       "      <th>timestamp</th>\n",
       "      <th>cnt</th>\n",
       "      <th>t1</th>\n",
       "      <th>t2</th>\n",
       "      <th>hum</th>\n",
       "      <th>wind_speed</th>\n",
       "      <th>weather_code</th>\n",
       "      <th>is_holiday</th>\n",
       "      <th>is_weekend</th>\n",
       "      <th>season</th>\n",
       "    </tr>\n",
       "  </thead>\n",
       "  <tbody>\n",
       "    <tr>\n",
       "      <th>0</th>\n",
       "      <td>2015-01-04 00:00:00</td>\n",
       "      <td>182</td>\n",
       "      <td>3.0</td>\n",
       "      <td>2.0</td>\n",
       "      <td>93.0</td>\n",
       "      <td>6.0</td>\n",
       "      <td>3.0</td>\n",
       "      <td>0.0</td>\n",
       "      <td>1.0</td>\n",
       "      <td>3.0</td>\n",
       "    </tr>\n",
       "    <tr>\n",
       "      <th>1</th>\n",
       "      <td>2015-01-04 01:00:00</td>\n",
       "      <td>138</td>\n",
       "      <td>3.0</td>\n",
       "      <td>2.5</td>\n",
       "      <td>93.0</td>\n",
       "      <td>5.0</td>\n",
       "      <td>1.0</td>\n",
       "      <td>0.0</td>\n",
       "      <td>1.0</td>\n",
       "      <td>3.0</td>\n",
       "    </tr>\n",
       "    <tr>\n",
       "      <th>2</th>\n",
       "      <td>2015-01-04 02:00:00</td>\n",
       "      <td>134</td>\n",
       "      <td>2.5</td>\n",
       "      <td>2.5</td>\n",
       "      <td>96.5</td>\n",
       "      <td>0.0</td>\n",
       "      <td>1.0</td>\n",
       "      <td>0.0</td>\n",
       "      <td>1.0</td>\n",
       "      <td>3.0</td>\n",
       "    </tr>\n",
       "    <tr>\n",
       "      <th>3</th>\n",
       "      <td>2015-01-04 03:00:00</td>\n",
       "      <td>72</td>\n",
       "      <td>2.0</td>\n",
       "      <td>2.0</td>\n",
       "      <td>100.0</td>\n",
       "      <td>0.0</td>\n",
       "      <td>1.0</td>\n",
       "      <td>0.0</td>\n",
       "      <td>1.0</td>\n",
       "      <td>3.0</td>\n",
       "    </tr>\n",
       "    <tr>\n",
       "      <th>4</th>\n",
       "      <td>2015-01-04 04:00:00</td>\n",
       "      <td>47</td>\n",
       "      <td>2.0</td>\n",
       "      <td>0.0</td>\n",
       "      <td>93.0</td>\n",
       "      <td>6.5</td>\n",
       "      <td>1.0</td>\n",
       "      <td>0.0</td>\n",
       "      <td>1.0</td>\n",
       "      <td>3.0</td>\n",
       "    </tr>\n",
       "  </tbody>\n",
       "</table>\n",
       "</div>"
      ],
      "text/plain": [
       "             timestamp  cnt   t1   t2    hum  wind_speed  weather_code  \\\n",
       "0  2015-01-04 00:00:00  182  3.0  2.0   93.0         6.0           3.0   \n",
       "1  2015-01-04 01:00:00  138  3.0  2.5   93.0         5.0           1.0   \n",
       "2  2015-01-04 02:00:00  134  2.5  2.5   96.5         0.0           1.0   \n",
       "3  2015-01-04 03:00:00   72  2.0  2.0  100.0         0.0           1.0   \n",
       "4  2015-01-04 04:00:00   47  2.0  0.0   93.0         6.5           1.0   \n",
       "\n",
       "   is_holiday  is_weekend  season  \n",
       "0         0.0         1.0     3.0  \n",
       "1         0.0         1.0     3.0  \n",
       "2         0.0         1.0     3.0  \n",
       "3         0.0         1.0     3.0  \n",
       "4         0.0         1.0     3.0  "
      ]
     },
     "execution_count": 2,
     "metadata": {},
     "output_type": "execute_result"
    }
   ],
   "source": [
    "data = pd.read_csv(r'data/london_merged.csv')\n",
    "data.head(5)"
   ]
  },
  {
   "cell_type": "code",
   "execution_count": 3,
   "metadata": {},
   "outputs": [],
   "source": [
    "np.random.seed(0)"
   ]
  },
  {
   "attachments": {},
   "cell_type": "markdown",
   "metadata": {},
   "source": [
    "## Preprocess the Data"
   ]
  },
  {
   "cell_type": "code",
   "execution_count": 4,
   "metadata": {},
   "outputs": [],
   "source": [
    "data['year'] = data['timestamp'].apply(lambda row: row[:4])\n",
    "data['month'] = data['timestamp'].apply(lambda row: row.split('-')[2][:2] )\n",
    "data['hour'] = data['timestamp'].apply(lambda row: row.split(':')[0][-2:] )"
   ]
  },
  {
   "cell_type": "code",
   "execution_count": 5,
   "metadata": {},
   "outputs": [
    {
     "data": {
      "text/html": [
       "<div>\n",
       "<style scoped>\n",
       "    .dataframe tbody tr th:only-of-type {\n",
       "        vertical-align: middle;\n",
       "    }\n",
       "\n",
       "    .dataframe tbody tr th {\n",
       "        vertical-align: top;\n",
       "    }\n",
       "\n",
       "    .dataframe thead th {\n",
       "        text-align: right;\n",
       "    }\n",
       "</style>\n",
       "<table border=\"1\" class=\"dataframe\">\n",
       "  <thead>\n",
       "    <tr style=\"text-align: right;\">\n",
       "      <th></th>\n",
       "      <th>cnt</th>\n",
       "      <th>t1</th>\n",
       "      <th>t2</th>\n",
       "      <th>hum</th>\n",
       "      <th>wind_speed</th>\n",
       "      <th>weather_code</th>\n",
       "      <th>is_holiday</th>\n",
       "      <th>is_weekend</th>\n",
       "      <th>season</th>\n",
       "      <th>year</th>\n",
       "      <th>month</th>\n",
       "      <th>hour</th>\n",
       "    </tr>\n",
       "  </thead>\n",
       "  <tbody>\n",
       "    <tr>\n",
       "      <th>0</th>\n",
       "      <td>182</td>\n",
       "      <td>3.0</td>\n",
       "      <td>2.0</td>\n",
       "      <td>93.0</td>\n",
       "      <td>6.0</td>\n",
       "      <td>3.0</td>\n",
       "      <td>0.0</td>\n",
       "      <td>1.0</td>\n",
       "      <td>3.0</td>\n",
       "      <td>2015</td>\n",
       "      <td>04</td>\n",
       "      <td>00</td>\n",
       "    </tr>\n",
       "    <tr>\n",
       "      <th>1</th>\n",
       "      <td>138</td>\n",
       "      <td>3.0</td>\n",
       "      <td>2.5</td>\n",
       "      <td>93.0</td>\n",
       "      <td>5.0</td>\n",
       "      <td>1.0</td>\n",
       "      <td>0.0</td>\n",
       "      <td>1.0</td>\n",
       "      <td>3.0</td>\n",
       "      <td>2015</td>\n",
       "      <td>04</td>\n",
       "      <td>01</td>\n",
       "    </tr>\n",
       "    <tr>\n",
       "      <th>2</th>\n",
       "      <td>134</td>\n",
       "      <td>2.5</td>\n",
       "      <td>2.5</td>\n",
       "      <td>96.5</td>\n",
       "      <td>0.0</td>\n",
       "      <td>1.0</td>\n",
       "      <td>0.0</td>\n",
       "      <td>1.0</td>\n",
       "      <td>3.0</td>\n",
       "      <td>2015</td>\n",
       "      <td>04</td>\n",
       "      <td>02</td>\n",
       "    </tr>\n",
       "  </tbody>\n",
       "</table>\n",
       "</div>"
      ],
      "text/plain": [
       "   cnt   t1   t2   hum  wind_speed  weather_code  is_holiday  is_weekend  \\\n",
       "0  182  3.0  2.0  93.0         6.0           3.0         0.0         1.0   \n",
       "1  138  3.0  2.5  93.0         5.0           1.0         0.0         1.0   \n",
       "2  134  2.5  2.5  96.5         0.0           1.0         0.0         1.0   \n",
       "\n",
       "   season  year month hour  \n",
       "0     3.0  2015    04   00  \n",
       "1     3.0  2015    04   01  \n",
       "2     3.0  2015    04   02  "
      ]
     },
     "execution_count": 5,
     "metadata": {},
     "output_type": "execute_result"
    }
   ],
   "source": [
    "data.drop('timestamp', axis=1, inplace=True)\n",
    "data.head(3)"
   ]
  },
  {
   "attachments": {},
   "cell_type": "markdown",
   "metadata": {},
   "source": [
    "## Enhance Data"
   ]
  },
  {
   "cell_type": "code",
   "execution_count": 6,
   "metadata": {},
   "outputs": [],
   "source": [
    "def data_enhancement(data):\n",
    "    \n",
    "    gen_data = data\n",
    "    \n",
    "    for season in data['season'].unique():\n",
    "        seasonal_data =  gen_data[gen_data['season'] == season]\n",
    "        hum_std = seasonal_data['hum'].std()\n",
    "        wind_speed_std = seasonal_data['wind_speed'].std()\n",
    "        t1_std = seasonal_data['t1'].std()\n",
    "        t2_std = seasonal_data['t2'].std()\n",
    "        \n",
    "        for i in gen_data[gen_data['season'] == season].index:\n",
    "            if np.random.randint(2) == 1:\n",
    "                gen_data['hum'].values[i] += hum_std/10\n",
    "            else:\n",
    "                gen_data['hum'].values[i] -= hum_std/10\n",
    "                \n",
    "            if np.random.randint(2) == 1:\n",
    "                gen_data['wind_speed'].values[i] += wind_speed_std/10\n",
    "            else:\n",
    "                gen_data['wind_speed'].values[i] -= wind_speed_std/10\n",
    "                \n",
    "            if np.random.randint(2) == 1:\n",
    "                gen_data['t1'].values[i] += t1_std/10\n",
    "            else:\n",
    "                gen_data['t1'].values[i] -= t1_std/10\n",
    "                \n",
    "            if np.random.randint(2) == 1:\n",
    "                gen_data['t2'].values[i] += t2_std/10\n",
    "            else:\n",
    "                gen_data['t2'].values[i] -= t2_std/10\n",
    "\n",
    "    return gen_data"
   ]
  },
  {
   "cell_type": "code",
   "execution_count": 7,
   "metadata": {},
   "outputs": [
    {
     "name": "stdout",
     "output_type": "stream",
     "text": [
      "   cnt        t1       t2        hum  wind_speed  weather_code  is_holiday  \\\n",
      "0  182  3.379372  1.51169  91.910483    6.890895           3.0         0.0   \n",
      "1  138  3.379372  2.98831  94.089517    5.890895           1.0         0.0   \n",
      "2  134  2.879372  2.01169  97.589517    0.890895           1.0         0.0   \n",
      "\n",
      "   is_weekend  season  year month hour  \n",
      "0         1.0     3.0  2015    04   00  \n",
      "1         1.0     3.0  2015    04   01  \n",
      "2         1.0     3.0  2015    04   02  \n"
     ]
    }
   ],
   "source": [
    "gen = data_enhancement(data)\n",
    "print(gen.head(3) )"
   ]
  },
  {
   "cell_type": "code",
   "execution_count": 8,
   "metadata": {},
   "outputs": [],
   "source": [
    "y = data['cnt']\n",
    "x = data.drop(['cnt'], axis=1)"
   ]
  },
  {
   "cell_type": "code",
   "execution_count": 9,
   "metadata": {},
   "outputs": [],
   "source": [
    "cat_vars = ['season','is_weekend','is_holiday','year','month','weather_code']\n",
    "num_vars = ['t1','t2','hum','wind_speed']"
   ]
  },
  {
   "cell_type": "code",
   "execution_count": 10,
   "metadata": {},
   "outputs": [],
   "source": [
    "x_train, x_val, y_train, y_val = model_selection.train_test_split(x, y, test_size=0.2, random_state=0  )"
   ]
  },
  {
   "cell_type": "code",
   "execution_count": 11,
   "metadata": {},
   "outputs": [],
   "source": [
    "extra_sample = gen.sample(gen.shape[0] // 3)"
   ]
  },
  {
   "cell_type": "code",
   "execution_count": 12,
   "metadata": {},
   "outputs": [],
   "source": [
    "x_train = pd.concat([x_train, extra_sample.drop(['cnt'], axis=1 ) ])\n",
    "y_train = pd.concat([y_train, extra_sample['cnt'] ])"
   ]
  },
  {
   "cell_type": "code",
   "execution_count": 13,
   "metadata": {},
   "outputs": [],
   "source": [
    "transformer = preprocessing.PowerTransformer()\n",
    "y_train = transformer.fit_transform(y_train.values.reshape(-1,1))\n",
    "y_val = transformer.transform(y_val.values.reshape(-1,1))"
   ]
  },
  {
   "cell_type": "code",
   "execution_count": 14,
   "metadata": {},
   "outputs": [],
   "source": [
    "rang = abs(y_train.max()) + abs(y_train.min())"
   ]
  },
  {
   "cell_type": "code",
   "execution_count": 15,
   "metadata": {},
   "outputs": [],
   "source": [
    "rang = abs(y_train.max()) + abs(y_train.min())"
   ]
  },
  {
   "cell_type": "code",
   "execution_count": 16,
   "metadata": {},
   "outputs": [],
   "source": [
    "num_4_treeModels = pipeline.Pipeline(steps=[ ('imputer', impute.SimpleImputer(strategy='constant', fill_value=-9999)),])"
   ]
  },
  {
   "cell_type": "code",
   "execution_count": 17,
   "metadata": {},
   "outputs": [],
   "source": [
    "cat_4_treeModels = pipeline.Pipeline(steps=[\n",
    "    ('imputer', impute.SimpleImputer(strategy='constant', fill_value='missing')),\n",
    "    ('ordinal', preprocessing.OrdinalEncoder()) # handle_unknown='ignore' ONLY IN VERSION 0.24\n",
    "])"
   ]
  },
  {
   "cell_type": "code",
   "execution_count": 18,
   "metadata": {},
   "outputs": [],
   "source": [
    "tree_prepro = compose.ColumnTransformer(transformers=[\n",
    "    ('num', num_4_treeModels, num_vars),\n",
    "    ('cat', cat_4_treeModels, cat_vars),\n",
    "], remainder='drop') # Drop other vars not specified in num_vars or cat_vars"
   ]
  },
  {
   "cell_type": "code",
   "execution_count": 19,
   "metadata": {},
   "outputs": [],
   "source": [
    "tree_classifiers = {\n",
    "                        \"Decision Tree\": DecisionTreeRegressor(),\n",
    "                        \"Extra Trees\":   ExtraTreesRegressor(n_estimators=100),\n",
    "                        \"Random Forest\": RandomForestRegressor(n_estimators=100),\n",
    "                        \"AdaBoost\":      AdaBoostRegressor(n_estimators=100),\n",
    " \n",
    "                    }"
   ]
  },
  {
   "cell_type": "code",
   "execution_count": 20,
   "metadata": {},
   "outputs": [],
   "source": [
    "tree_classifiers = {name: pipeline.make_pipeline(tree_prepro, model) for name, model in tree_classifiers.items()}"
   ]
  },
  {
   "cell_type": "code",
   "execution_count": 21,
   "metadata": {},
   "outputs": [],
   "source": [
    "results = pd.DataFrame({'Model': [], 'MSE': [], 'MAB': [], \" % error\": [], 'Time': []})"
   ]
  },
  {
   "cell_type": "code",
   "execution_count": null,
   "metadata": {},
   "outputs": [],
   "source": [
    "for model_name, model in tree_classifiers.items():\n",
    "    \n",
    "    start_time = time.time()\n",
    "    model.fit(x_train, y_train)\n",
    "    total_time = time.time() - start_time\n",
    "        \n",
    "    pred = model.predict(x_val)\n",
    "    \n",
    "    results = results.append({\"Model\":      model_name,\n",
    "                              \"MSE\":        metrics.mean_squared_error(y_val, pred),\n",
    "                              \"MAB\":        metrics.mean_absolute_error(y_val, pred),\n",
    "                              \" % error\":   metrics.mean_squared_error(y_val, pred) / rang,\n",
    "                              \"Time\":       total_time},\n",
    "                              ignore_index=True)"
   ]
  },
  {
   "cell_type": "code",
   "execution_count": 23,
   "metadata": {},
   "outputs": [
    {
     "data": {
      "text/html": [
       "<style type=\"text/css\">\n",
       "#T_773fb_row0_col1, #T_773fb_row0_col2, #T_773fb_row1_col1 {\n",
       "  width: 10em;\n",
       "  background: linear-gradient(90deg, #5fba7d 0.4%, transparent 0.4%);\n",
       "}\n",
       "#T_773fb_row1_col2, #T_773fb_row3_col2 {\n",
       "  width: 10em;\n",
       "  background: linear-gradient(90deg, #5fba7d 0.5%, transparent 0.5%);\n",
       "}\n",
       "#T_773fb_row2_col1, #T_773fb_row2_col2 {\n",
       "  width: 10em;\n",
       "  background: linear-gradient(90deg, #5fba7d 0.7%, transparent 0.7%);\n",
       "}\n",
       "#T_773fb_row3_col1 {\n",
       "  width: 10em;\n",
       "  background: linear-gradient(90deg, #5fba7d 0.8%, transparent 0.8%);\n",
       "}\n",
       "</style>\n",
       "<table id=\"T_773fb\">\n",
       "  <thead>\n",
       "    <tr>\n",
       "      <th class=\"blank level0\" >&nbsp;</th>\n",
       "      <th id=\"T_773fb_level0_col0\" class=\"col_heading level0 col0\" >Model</th>\n",
       "      <th id=\"T_773fb_level0_col1\" class=\"col_heading level0 col1\" >MSE</th>\n",
       "      <th id=\"T_773fb_level0_col2\" class=\"col_heading level0 col2\" >MAB</th>\n",
       "      <th id=\"T_773fb_level0_col3\" class=\"col_heading level0 col3\" > % error</th>\n",
       "      <th id=\"T_773fb_level0_col4\" class=\"col_heading level0 col4\" >Time</th>\n",
       "    </tr>\n",
       "  </thead>\n",
       "  <tbody>\n",
       "    <tr>\n",
       "      <th id=\"T_773fb_level0_row0\" class=\"row_heading level0 row0\" >1</th>\n",
       "      <td id=\"T_773fb_row0_col0\" class=\"data row0 col0\" >Extra Trees</td>\n",
       "      <td id=\"T_773fb_row0_col1\" class=\"data row0 col1\" >0.387647</td>\n",
       "      <td id=\"T_773fb_row0_col2\" class=\"data row0 col2\" >0.374526</td>\n",
       "      <td id=\"T_773fb_row0_col3\" class=\"data row0 col3\" >0.070216</td>\n",
       "      <td id=\"T_773fb_row0_col4\" class=\"data row0 col4\" >7.178797</td>\n",
       "    </tr>\n",
       "    <tr>\n",
       "      <th id=\"T_773fb_level0_row1\" class=\"row_heading level0 row1\" >2</th>\n",
       "      <td id=\"T_773fb_row1_col0\" class=\"data row1 col0\" >Random Forest</td>\n",
       "      <td id=\"T_773fb_row1_col1\" class=\"data row1 col1\" >0.427189</td>\n",
       "      <td id=\"T_773fb_row1_col2\" class=\"data row1 col2\" >0.456718</td>\n",
       "      <td id=\"T_773fb_row1_col3\" class=\"data row1 col3\" >0.077378</td>\n",
       "      <td id=\"T_773fb_row1_col4\" class=\"data row1 col4\" >13.328864</td>\n",
       "    </tr>\n",
       "    <tr>\n",
       "      <th id=\"T_773fb_level0_row2\" class=\"row_heading level0 row2\" >3</th>\n",
       "      <td id=\"T_773fb_row2_col0\" class=\"data row2 col0\" >AdaBoost</td>\n",
       "      <td id=\"T_773fb_row2_col1\" class=\"data row2 col1\" >0.697742</td>\n",
       "      <td id=\"T_773fb_row2_col2\" class=\"data row2 col2\" >0.665951</td>\n",
       "      <td id=\"T_773fb_row2_col3\" class=\"data row2 col3\" >0.126385</td>\n",
       "      <td id=\"T_773fb_row2_col4\" class=\"data row2 col4\" >0.810713</td>\n",
       "    </tr>\n",
       "    <tr>\n",
       "      <th id=\"T_773fb_level0_row3\" class=\"row_heading level0 row3\" >4</th>\n",
       "      <td id=\"T_773fb_row3_col0\" class=\"data row3 col0\" >Decision Tree</td>\n",
       "      <td id=\"T_773fb_row3_col1\" class=\"data row3 col1\" >0.750936</td>\n",
       "      <td id=\"T_773fb_row3_col2\" class=\"data row3 col2\" >0.524668</td>\n",
       "      <td id=\"T_773fb_row3_col3\" class=\"data row3 col3\" >0.136020</td>\n",
       "      <td id=\"T_773fb_row3_col4\" class=\"data row3 col4\" >0.400090</td>\n",
       "    </tr>\n",
       "  </tbody>\n",
       "</table>\n"
      ],
      "text/plain": [
       "<pandas.io.formats.style.Styler at 0x2d80d88bfd0>"
      ]
     },
     "execution_count": 23,
     "metadata": {},
     "output_type": "execute_result"
    }
   ],
   "source": [
    "results_ord = results.sort_values(by=['MSE'], ascending=True, ignore_index=True)\n",
    "results_ord.index += 1 \n",
    "\n",
    "results_ord.style.bar(subset=['MSE', 'MAB'], vmin=0, vmax=100, color='#5fba7d')"
   ]
  },
  {
   "cell_type": "code",
   "execution_count": 24,
   "metadata": {},
   "outputs": [
    {
     "name": "stdout",
     "output_type": "stream",
     "text": [
      "           Model       MSE       MAB   % error       Time\n",
      "1    Extra Trees  0.387647  0.374526  0.070216   7.178797\n",
      "2  Random Forest  0.427189  0.456718  0.077378  13.328864\n",
      "3       AdaBoost  0.697742  0.665951  0.126385   0.810713\n",
      "4  Decision Tree  0.750936  0.524668  0.136020   0.400090\n"
     ]
    }
   ],
   "source": [
    "print(results_ord)"
   ]
  },
  {
   "cell_type": "code",
   "execution_count": 25,
   "metadata": {},
   "outputs": [
    {
     "name": "stdout",
     "output_type": "stream",
     "text": [
      "2.766201853700867\n",
      "-2.754580496720054\n",
      "[0.56668132]\n",
      "1.0077299589148156\n"
     ]
    }
   ],
   "source": [
    "print(y_train.max())\n",
    "print(y_train.min())\n",
    "print(y_val[3])\n",
    "print(tree_classifiers['Random Forest'].predict(x_val)[3])"
   ]
  }
 ],
 "metadata": {
  "kernelspec": {
   "display_name": "deeplearning",
   "language": "python",
   "name": "python3"
  },
  "language_info": {
   "codemirror_mode": {
    "name": "ipython",
    "version": 3
   },
   "file_extension": ".py",
   "mimetype": "text/x-python",
   "name": "python",
   "nbconvert_exporter": "python",
   "pygments_lexer": "ipython3",
   "version": "3.8.13"
  },
  "orig_nbformat": 4
 },
 "nbformat": 4,
 "nbformat_minor": 2
}
